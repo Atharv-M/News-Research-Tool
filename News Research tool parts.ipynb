{
 "cells": [
  {
   "cell_type": "code",
   "execution_count": 14,
   "id": "b5b84772-6cff-4dd3-92a6-ee0f415b5db2",
   "metadata": {},
   "outputs": [],
   "source": [
    "import os \n",
    "import streamlit as st\n",
    "import pickle\n",
    "import time\n",
    "import langchain\n",
    "from langchain_google_genai import ChatGoogleGenerativeAI\n",
    "from langchain.chains import RetrievalQAWithSourcesChain\n",
    "from langchain.chains.qa_with_sources.loading import load_qa_with_sources_chain\n",
    "from langchain.text_splitter import RecursiveCharacterTextSplitter\n",
    "from langchain.document_loaders import UnstructuredURLLoader\n",
    "from langchain.embeddings import OpenAIEmbeddings\n",
    "import google.generativeai as genai\n",
    "from langchain_google_genai import GoogleGenerativeAIEmbeddings\n",
    "from langchain.vectorstores import FAISS"
   ]
  },
  {
   "cell_type": "code",
   "execution_count": null,
   "id": "cad0f868-264b-4ed1-9907-cebb0d9f320a",
   "metadata": {},
   "outputs": [
    {
     "data": {
      "text/plain": [
       "2"
      ]
     },
     "execution_count": 4,
     "metadata": {},
     "output_type": "execute_result"
    }
   ],
   "source": [
    "os.environ[\"GOOGLE_API_KEY\"] = \"YOUR API KEY\"\n",
    "llm = ChatGoogleGenerativeAI(model=\"gemini-2.5-pro\", temperature=0.6,max_tokens=500)\n",
    "\n",
    "loaders=UnstructuredURLLoader(urls=[\n",
    "    \"https://www.moneycontrol.com/stocks/marketstats/nsegainer/index.php\",\n",
    "    \"https://www.moneycontrol.com/stocks/marketstats/nseloser/index.php\"\n",
    "])\n",
    "data=loaders.load()\n",
    "len(data)"
   ]
  },
  {
   "cell_type": "code",
   "execution_count": 6,
   "id": "194d377c-a768-4760-9d61-31daa8824dd3",
   "metadata": {},
   "outputs": [
    {
     "data": {
      "text/plain": [
       "55"
      ]
     },
     "execution_count": 6,
     "metadata": {},
     "output_type": "execute_result"
    }
   ],
   "source": [
    "text_splitter=RecursiveCharacterTextSplitter(\n",
    "    chunk_size=1000,\n",
    "    chunk_overlap=200\n",
    ")\n",
    "#AS data is type of documents we can directly use split_documents over split_text in order to get the chunks\n",
    "docs=text_splitter.split_documents(data)\n",
    "len(docs)"
   ]
  },
  {
   "cell_type": "code",
   "execution_count": 18,
   "id": "9ea605e7-82b6-4103-a05d-64a4ce9588bd",
   "metadata": {},
   "outputs": [],
   "source": [
    "embeddings=GoogleGenerativeAIEmbeddings(model=\"models/text-embedding-004\") #use to make vectors \n",
    "vectorindex=FAISS.from_documents(docs,embeddings) # use for making indexed vectors"
   ]
  },
  {
   "cell_type": "code",
   "execution_count": 26,
   "id": "453bc9ef-d7f8-497c-82e3-29520c4d9ff8",
   "metadata": {},
   "outputs": [],
   "source": [
    "# Storing Vector index create in local\n",
    "# file_path=\"vector_index.pkl\"\n",
    "# with open(file_path,\"wb\") as f:\n",
    "#     pickle.dump(vectorindex,f)\n",
    "vectorindex.save_local(\"vector_indexx.pkl\")\n",
    "#load Faiss Index from disk\n",
    "vector_index=FAISS.load_local(\"vector_indexx.pkl\",embeddings,allow_dangerous_deserialization=True)\n"
   ]
  },
  {
   "cell_type": "code",
   "execution_count": null,
   "id": "7ba1fe16-3cfd-4909-a5a2-c460d48dae74",
   "metadata": {},
   "outputs": [],
   "source": []
  }
 ],
 "metadata": {
  "kernelspec": {
   "display_name": "Python 3 (ipykernel)",
   "language": "python",
   "name": "python3"
  },
  "language_info": {
   "codemirror_mode": {
    "name": "ipython",
    "version": 3
   },
   "file_extension": ".py",
   "mimetype": "text/x-python",
   "name": "python",
   "nbconvert_exporter": "python",
   "pygments_lexer": "ipython3",
   "version": "3.12.4"
  }
 },
 "nbformat": 4,
 "nbformat_minor": 5
}
